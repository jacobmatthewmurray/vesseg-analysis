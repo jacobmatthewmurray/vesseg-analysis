{
 "cells": [
  {
   "cell_type": "markdown",
   "metadata": {
    "Collapsed": "false"
   },
   "source": [
    "# Comparison Between Different Raters"
   ]
  },
  {
   "cell_type": "code",
   "execution_count": 1,
   "metadata": {
    "Collapsed": "false"
   },
   "outputs": [],
   "source": [
    "import os\n",
    "import shutil\n",
    "import pandas as pd\n",
    "import numpy as np\n",
    "from PIL import Image\n",
    "from pathlib import Path"
   ]
  },
  {
   "cell_type": "code",
   "execution_count": 5,
   "metadata": {
    "Collapsed": "false"
   },
   "outputs": [],
   "source": [
    "def make_comparison_dir(root, gt_rater, comparison_raters):\n",
    "    root_path = Path(root)\n",
    "    Path(root_path / gt_rater / 'gt' / 'masks' / 'o').mkdir(parents=True, exist_ok=True)\n",
    "    Path(root_path / gt_rater / 'gt' / 'masks' / 'rc').mkdir(parents=True, exist_ok=True)\n",
    "    Path(root_path / gt_rater / 'gt' / 'images' / 'o').mkdir(parents=True, exist_ok=True)\n",
    "    Path(root_path / gt_rater / 'gt' / 'images' / 'rc').mkdir(parents=True, exist_ok=True)\n",
    "    \n",
    "    for cr in comparison_raters:\n",
    "        Path(root_path / gt_rater / 'pred' / cr / 'masks' / 'o' ).mkdir(parents=True, exist_ok=True)\n",
    "        Path(root_path / gt_rater / 'pred' / cr / 'masks' / 'rc' ).mkdir(parents=True, exist_ok=True)    \n",
    "\n",
    "def dice_score(a, b):\n",
    "    \n",
    "    out_dict = {}\n",
    "    \n",
    "    labels = np.union1d(np.unique(a), np.unique(b))\n",
    "    \n",
    "    for l in labels:\n",
    "        mask_a = a == l\n",
    "        mask_b = b == l\n",
    "        \n",
    "        mask_a = mask_a.astype('float')\n",
    "        mask_b = mask_b.astype('float')\n",
    "        \n",
    "        intersection = np.sum(mask_a * mask_b)\n",
    "        union = np.sum(mask_a + mask_b)\n",
    "    \n",
    "        if union == 0: \n",
    "            union = 1\n",
    "        \n",
    "        out_dict[l] = 2*intersection / union\n",
    "    \n",
    "    out_dict['dim_a_0'] = a.shape[0]\n",
    "    out_dict['dim_a_1'] = a.shape[1]\n",
    "    out_dict['dim_b_0'] = b.shape[0]\n",
    "    out_dict['dim_b_1'] = b.shape[1]\n",
    "\n",
    "    return out_dict\n",
    "\n",
    "def accuracy(gt_array, pred_array):\n",
    "    return np.mean(gt_array==pred_array)\n",
    "\n",
    "def make_comparison_dataframe(dir_a, dir_b):\n",
    "    \n",
    "    def get_file_df(directory):\n",
    "        \n",
    "        file_dict = {\"file\": [], \"file_path\": []}\n",
    "        \n",
    "        for root, dir, file in os.walk(directory):\n",
    "            for f in file: \n",
    "                if 'consolidated' in f: \n",
    "                    file_dict['file'].append(f)\n",
    "                    file_dict['file_path'].append(os.path.join(root, f))        \n",
    "        return pd.DataFrame(file_dict)\n",
    "    \n",
    "    df_a = get_file_df(dir_a)\n",
    "    df_b = get_file_df(dir_b)\n",
    "    \n",
    "    return df_a.merge(df_b, how='inner', on=['file'])\n",
    "\n",
    "def evaluate_comparison_dataframe(dataframe):\n",
    "    \n",
    "    df = dataframe\n",
    "    \n",
    "    for i, row in df.iterrows():\n",
    "        a, b = np.array(Image.open(row['file_path_x'])), np.array(Image.open(row['file_path_y']))\n",
    "        for key, val in dice_score(a,b).items():\n",
    "            df.loc[i, key] = val\n",
    "    \n",
    "    return df\n",
    "        "
   ]
  },
  {
   "cell_type": "markdown",
   "metadata": {
    "Collapsed": "false"
   },
   "source": [
    "## Inter- Intra-Rater Analysis"
   ]
  },
  {
   "cell_type": "code",
   "execution_count": 45,
   "metadata": {
    "Collapsed": "false"
   },
   "outputs": [],
   "source": [
    "comparison_directory = Path('/path/')\n",
    "gt_raters = ['jessica', 'phillip', 'alex']\n",
    "pred_raters = ['phillip', 'fastai', 'nnunet2']\n",
    "\n",
    "output = []\n",
    "for gtr in gt_raters:\n",
    "    for pr in pred_raters:\n",
    "        \n",
    "        gt_directory = comparison_directory / gtr / 'gt' / 'masks'\n",
    "        pred_directory = comparison_directory / gtr / 'pred' / pr / 'masks'\n",
    "        \n",
    "        for pred_mask in pred_directory.rglob('*.png'):\n",
    "            gt_mask  = gt_directory / pred_mask.parent.stem / pred_mask.name\n",
    "            \n",
    "            pred_array = np.array(Image.open(pred_mask))\n",
    "            gt_array = np.array(Image.open(gt_mask))\n",
    "            \n",
    "            out_dict = dice_score(gt_array, pred_array)\n",
    "            out_dict['ground_truth_rater'] = gtr\n",
    "            out_dict['prediction_rater'] = pr\n",
    "            out_dict['pr_path'] = str(pred_mask)\n",
    "            out_dict['gt_path'] = str(gt_mask)\n",
    "            out_dict['accuracy'] = accuracy(pred_array, gt_array)\n",
    "            output.append(out_dict)        \n",
    "\n",
    "df = pd.DataFrame(output)\n",
    "# df.to_csv('ground_truth_vs_raters_new.csv')\n",
    "\n",
    "dff = df[['accuracy', 'ground_truth_rater', 'prediction_rater']]\n",
    "dff_pivot_mean = pd.pivot_table(dff, aggfunc=np.mean, values=['accuracy'], columns='prediction_rater', index='ground_truth_rater')\n",
    "dff_pivot_std = pd.pivot_table(dff, aggfunc=np.std, values=['accuracy'], columns='prediction_rater', index='ground_truth_rater')\n",
    "dff_pivot_cnt = pd.pivot_table(dff, aggfunc='count', values=['accuracy'], columns='prediction_rater', index='ground_truth_rater')\n",
    "\n",
    "publication_table = pd.DataFrame(columns=pred_raters, index=gt_raters)\n",
    "for gtr in gt_raters:\n",
    "    for pr in pred_raters:\n",
    "        mean = dff_pivot_mean.loc[gtr, ('accuracy', pr)]\n",
    "        std = dff_pivot_std.loc[gtr, ('accuracy', pr)]\n",
    "        publication_table.loc[gtr, pr] = '{:.3f}±{:.3f}'.format(round(mean,3), round(std,3))\n",
    "        \n",
    "\n",
    "publication_table = publication_table.reindex(['fastai', 'nnunet2', 'phillip'], axis=1)\n",
    "publication_table = publication_table.reindex(['alex', 'jessica', 'phillip'], axis=0)"
   ]
  }
 ],
 "metadata": {
  "kernelspec": {
   "display_name": "Python 3",
   "language": "python",
   "name": "python3"
  },
  "language_info": {
   "codemirror_mode": {
    "name": "ipython",
    "version": 3
   },
   "file_extension": ".py",
   "mimetype": "text/x-python",
   "name": "python",
   "nbconvert_exporter": "python",
   "pygments_lexer": "ipython3",
   "version": "3.7.4"
  }
 },
 "nbformat": 4,
 "nbformat_minor": 4
}
