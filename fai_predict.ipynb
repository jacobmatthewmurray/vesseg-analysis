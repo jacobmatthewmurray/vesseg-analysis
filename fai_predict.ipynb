{
 "cells": [
  {
   "cell_type": "markdown",
   "metadata": {
    "Collapsed": "false"
   },
   "source": [
    "# FastAI Predictions"
   ]
  },
  {
   "cell_type": "markdown",
   "metadata": {
    "Collapsed": "false"
   },
   "source": [
    "In analogy to nnunet predictions, fastai predictions use the mean softmax probabilities of the five cross validation models constructed during training."
   ]
  },
  {
   "cell_type": "code",
   "execution_count": 1,
   "metadata": {
    "Collapsed": "false"
   },
   "outputs": [],
   "source": [
    "from fastai.vision import *\n",
    "from fastai.callbacks.hooks import *\n",
    "from fastai.utils.mem import *\n",
    "from fastai.callbacks import *\n",
    "from PIL import Image as PILImage\n",
    "from matplotlib.cm import ScalarMappable as mpl_scalar_mappale\n",
    "from matplotlib.colors import Normalize as mpl_norm"
   ]
  },
  {
   "cell_type": "markdown",
   "metadata": {
    "Collapsed": "false"
   },
   "source": [
    "_Required functions_"
   ]
  },
  {
   "cell_type": "code",
   "execution_count": 2,
   "metadata": {
    "Collapsed": "false"
   },
   "outputs": [],
   "source": [
    "def predict_ensemble(segmentation_item_list, paths_to_learners):\n",
    "    data = segmentation_item_list\n",
    "    all_names = [data.items[i].name for i in range(len(data))]\n",
    "    all_preds = []\n",
    "    for l in paths_to_learners:\n",
    "        learner_path = Path(l)\n",
    "        learn = load_learner(learner_path.parent, file=learner_path.name)\n",
    "        preds = [learn.predict(d)[2].numpy() for d in data]\n",
    "        all_preds.append(np.stack(preds))\n",
    "    all_preds = np.stack(all_preds)\n",
    "    mean_preds = np.mean(all_preds, axis=0)\n",
    "    all_labels = np.argmax(mean_preds, axis=1)\n",
    "    return [(all_names[i], all_labels[i, ...], mean_preds[i, ...]) for i in range(len(data))]"
   ]
  },
  {
   "cell_type": "code",
   "execution_count": 3,
   "metadata": {
    "Collapsed": "false"
   },
   "outputs": [],
   "source": [
    "def predict_ensemble_directory(input_directory, output_directory, paths_to_learners, overlay_directory=None, num_labels=None):\n",
    "    data = SegmentationItemList.from_folder(input_directory)\n",
    "    predictions = predict_ensemble(data, paths_to_learners)\n",
    "    for name, labels, _ in predictions:\n",
    "        msk = PILImage.fromarray(labels.astype('uint8'))\n",
    "        msk.save(os.path.join(output_directory, name), optimize=True)\n",
    "        \n",
    "        if overlay_directory:\n",
    "            sm = mpl_scalar_mappale(mpl_norm(0, num_labels-1), 'viridis')\n",
    "            cm_arr_rgba = sm.to_rgba(labels)\n",
    "            cm_arr_rgba = (cm_arr_rgba * 255).astype('uint8')\n",
    "            cm_arr_rbga_img = PILImage.fromarray(cm_arr_rgba, mode='RGBA')\n",
    "\n",
    "            img_arr_rgb = np.array(PILImage.open(os.path.join(input_directory, name)))\n",
    "            alpha_channel = np.full((512, 512, 1), 255, dtype='uint8')\n",
    "            img_arr_rgba = np.concatenate((img_arr_rgb, alpha_channel), axis=-1).astype('uint8')\n",
    "            img_arr_rgba_img = PILImage.fromarray(img_arr_rgba, mode='RGBA')\n",
    "\n",
    "            ol_img = PILImage.blend(img_arr_rgba_img, cm_arr_rbga_img, 0.3)\n",
    "            ol_img.save(os.path.join(overlay_directory, name), optimize=True)"
   ]
  },
  {
   "cell_type": "markdown",
   "metadata": {
    "Collapsed": "false"
   },
   "source": [
    "# Analysis-specific predictions"
   ]
  },
  {
   "cell_type": "markdown",
   "metadata": {
    "Collapsed": "false"
   },
   "source": [
    "These predictions are made for specific analyses conducted for the vesseg paper."
   ]
  },
  {
   "cell_type": "code",
   "execution_count": 9,
   "metadata": {
    "Collapsed": "false"
   },
   "outputs": [],
   "source": [
    "# set paths to exported learners \n",
    "ptl = ['/home/jacob/projects/vesseg/model/99_train_valid/99_x_val_fold_{}.pkl'.format(str(i)) for i in range(5)]"
   ]
  },
  {
   "cell_type": "markdown",
   "metadata": {
    "Collapsed": "false"
   },
   "source": [
    "### Make predictions for interrater analysis"
   ]
  },
  {
   "cell_type": "code",
   "execution_count": 5,
   "metadata": {
    "Collapsed": "false"
   },
   "outputs": [],
   "source": [
    "for gt_rater in ['phillip', 'alex', 'jessica']:\n",
    "    \n",
    "    img_dir = Path('/media/jacob/data/jacob/vesseg/comparison/'+gt_rater+'/gt/images/rc')\n",
    "    out_dir = Path('/media/jacob/data/jacob/vesseg/comparison/'+gt_rater+'/pred/fastai/masks/rc')\n",
    "    \n",
    "    predict_ensemble_directory(img_dir, out_dir, ptl)"
   ]
  },
  {
   "cell_type": "markdown",
   "metadata": {
    "Collapsed": "false"
   },
   "source": [
    "### Make predictions for all three test sets"
   ]
  },
  {
   "cell_type": "code",
   "execution_count": 133,
   "metadata": {
    "Collapsed": "false"
   },
   "outputs": [],
   "source": [
    "test_sets = ['99_test', 'j_test', 'p_test']\n",
    "i_dir = '/media/jacob/data/jacob/vesseg/prediction/{}/images/'\n",
    "o_dir = '/media/jacob/data/jacob/vesseg/prediction/{}/preds/fastai'\n",
    "ptl = ['/home/jacob/projects/vesseg/model/99_train_valid/99_x_val_fold_{}.pkl'.format(str(i)) for i in range(5)]\n",
    "args = [(i_dir.format(t), o_dir.format(t), ptl) for t in test_sets]"
   ]
  },
  {
   "cell_type": "code",
   "execution_count": 136,
   "metadata": {
    "Collapsed": "false"
   },
   "outputs": [],
   "source": [
    "for a in args: \n",
    "    predict_ensemble_directory(*a)"
   ]
  },
  {
   "cell_type": "markdown",
   "metadata": {
    "Collapsed": "false"
   },
   "source": [
    "### Make predictions after data reconstruction"
   ]
  },
  {
   "cell_type": "code",
   "execution_count": 5,
   "metadata": {
    "Collapsed": "false"
   },
   "outputs": [],
   "source": [
    "input_dir = '/data/jacob/vesseg/data/resized/images/'\n",
    "output_dir = '/data/jacob/vesseg/data/predictions/fastai'\n",
    "overlay_dir = '/data/jacob/vesseg/data/overlays/fastai'\n",
    "num_labels = 3\n",
    "ptl = ['/home/jacob/projects/vesseg/model/99_train_valid/99_x_val_fold_{}.pkl'.format(str(i)) for i in range(5)]\n",
    "predict_ensemble_directory(input_dir, output_dir, ptl, overlay_directory=overlay_dir, num_labels=num_labels)"
   ]
  }
 ],
 "metadata": {
  "kernelspec": {
   "display_name": "Python 3",
   "language": "python",
   "name": "python3"
  },
  "language_info": {
   "codemirror_mode": {
    "name": "ipython",
    "version": 3
   },
   "file_extension": ".py",
   "mimetype": "text/x-python",
   "name": "python",
   "nbconvert_exporter": "python",
   "pygments_lexer": "ipython3",
   "version": "3.7.4"
  }
 },
 "nbformat": 4,
 "nbformat_minor": 4
}
