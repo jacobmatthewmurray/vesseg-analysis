{
 "cells": [
  {
   "cell_type": "code",
   "execution_count": 20,
   "metadata": {
    "Collapsed": "false"
   },
   "outputs": [],
   "source": [
    "from PIL import Image\n",
    "from PIL.PngImagePlugin import PngInfo\n",
    "import numpy as np\n",
    "import os\n",
    "from pathlib import Path\n",
    "import nibabel as nib\n",
    "import pandas as pd"
   ]
  },
  {
   "cell_type": "markdown",
   "metadata": {
    "Collapsed": "false"
   },
   "source": [
    "## General Utility Functions for File Operations"
   ]
  },
  {
   "cell_type": "code",
   "execution_count": 21,
   "metadata": {
    "Collapsed": "false"
   },
   "outputs": [],
   "source": [
    "import multiprocessing\n",
    "from functools import partial\n",
    "from tqdm.auto import tqdm\n",
    "import functools"
   ]
  },
  {
   "cell_type": "code",
   "execution_count": 22,
   "metadata": {
    "Collapsed": "false"
   },
   "outputs": [],
   "source": [
    "def walk_directory_to_file_list(directory, condition_function=lambda x: True):\n",
    "    file_list = []\n",
    "    for root, dirs, files in os.walk(directory):    \n",
    "        for file in files:\n",
    "            if condition_function(file):\n",
    "                file_list.append(os.path.join(root, file))\n",
    "    return file_list"
   ]
  },
  {
   "cell_type": "code",
   "execution_count": 23,
   "metadata": {
    "Collapsed": "false"
   },
   "outputs": [],
   "source": [
    "def multiprocess(function, iterable, **kwargs):\n",
    "    one_arg_fnx = partial(function, **kwargs)\n",
    "    cpus = multiprocessing.cpu_count()\n",
    "    results = []\n",
    "    with multiprocessing.Pool(processes=cpus) as pool:\n",
    "        for r in tqdm(pool.imap(one_arg_fnx, iterable), total=len(iterable)):\n",
    "            results.append(r)\n",
    "    return results"
   ]
  },
  {
   "cell_type": "markdown",
   "metadata": {
    "Collapsed": "false"
   },
   "source": [
    "## ETL Functions"
   ]
  },
  {
   "cell_type": "code",
   "execution_count": 5,
   "metadata": {
    "Collapsed": "false"
   },
   "outputs": [],
   "source": [
    "def resize(file_path, new_size=(512,512), output_dir='.', algorithm=Image.BICUBIC):\n",
    "        try:\n",
    "            filename = str(Path(file_path).name).split('.')[0].replace('Olme ', '')\n",
    "            img = Image.open(file_path)\n",
    "            png_info = PngInfo()\n",
    "            old_size_x = str(img.size[0])\n",
    "            old_size_y = str(img.size[1])\n",
    "            png_info.add_text('old_size_x', old_size_x)\n",
    "            png_info.add_text('old_size_y', old_size_y)\n",
    "            img = img.resize(new_size, resample=algorithm)\n",
    "            img.save(os.path.join(str(output_dir), filename + '.png'), 'PNG', optimize=True, pnginfo=png_info)\n",
    "            return {'filename': filename, 'old_size_x': old_size_x, 'old_size_y': old_size_y}\n",
    "\n",
    "        except Exception as e:\n",
    "            print(e)\n",
    "        \n",
    "\n",
    "def resize_directory(file_list, **kwargs): return multiprocess(resize, file_list, **kwargs)"
   ]
  },
  {
   "cell_type": "code",
   "execution_count": 7,
   "metadata": {
    "Collapsed": "false"
   },
   "outputs": [],
   "source": [
    "def convert(file_path, new_mode='LA', output_directory='.'):\n",
    "    \"\"\" Convert image at file path to PIL new_mode, save in output_directory.\"\"\"\n",
    "    try:\n",
    "        file_name = file_path.split('/')[-1]\n",
    "        img = Image.open(file_path)\n",
    "        img_converted = img.convert(new_mode)\n",
    "        img_converted.save(os.path.join(output_directory, file_name))\n",
    "    except Exception as e:\n",
    "        print(e)\n",
    "\n",
    "def convert_directory(file_list, **kwargs): return multiprocess(convert, file_list, **kwargs)"
   ]
  },
  {
   "cell_type": "code",
   "execution_count": 8,
   "metadata": {
    "Collapsed": "false"
   },
   "outputs": [],
   "source": [
    "def la_rgb_stack(file_path, output_directory='.'):\n",
    "    \n",
    "    try:\n",
    "        file_name = file_path.split('/')[-1]\n",
    "        img_arr = np.array(Image.open(file_path))[..., 0]\n",
    "        img_arr_stack = np.stack(3*[img_arr], axis=-1)\n",
    "        Image.fromarray(img_arr_stack, mode='RGB').save(os.path.join(output_directory, file_name))\n",
    "    except Exception as e:\n",
    "        print(e)\n",
    "\n",
    "def la_rgb_stack_directory(file_list, **kwargs): return multiprocess(la_rgb_stack, file_list, **kwargs)"
   ]
  },
  {
   "cell_type": "markdown",
   "metadata": {
    "Collapsed": "false"
   },
   "source": [
    "Extract xml information from metadatafiles."
   ]
  },
  {
   "cell_type": "code",
   "execution_count": 14,
   "metadata": {
    "Collapsed": "false"
   },
   "outputs": [],
   "source": [
    "import xml.etree.ElementTree as ET"
   ]
  },
  {
   "cell_type": "code",
   "execution_count": 16,
   "metadata": {
    "Collapsed": "false"
   },
   "outputs": [],
   "source": [
    "def extract_size_information(file_path):\n",
    "    \n",
    "    filename = str(Path(file_path).name).split('.')[0].replace('__metadata', '')\n",
    "    ns = {'ome': 'http://www.openmicroscopy.org/Schemas/OME/2016-06'}\n",
    "    tree = ET.parse(file_path)\n",
    "    elem = tree.find(\".//ome:Image[@ID='Image:0']/ome:Pixels\", ns)\n",
    "    \n",
    "    requested_attributes = {\n",
    "        'PhysicalSizeX': '',\n",
    "        'PhysicalSizeY': '',\n",
    "        'PhysicalSizeXUnit': '',\n",
    "        'PhysicalSizeYUnit': '',\n",
    "        'SizeX': '',\n",
    "        'SizeY': ''\n",
    "    }\n",
    "    \n",
    "    for key in requested_attributes:\n",
    "        requested_attributes[key] = elem.get(key)\n",
    "\n",
    "    requested_attributes['filename'] = filename\n",
    "    \n",
    "    return requested_attributes\n",
    "\n",
    "def extract_size_information_directory(file_list): return multiprocess(extract_size_information, file_list)"
   ]
  },
  {
   "cell_type": "code",
   "execution_count": 17,
   "metadata": {
    "Collapsed": "false"
   },
   "outputs": [],
   "source": [
    "def crop_dim_from_mask_array(mask_array, buffer=0.1):\n",
    "    \n",
    "    non_zero_rows, non_zero_cols = np.nonzero(mask_array)\n",
    "\n",
    "    row_min = np.min(non_zero_rows)\n",
    "    row_max = np.max(non_zero_rows)\n",
    "    col_min = np.min(non_zero_cols)\n",
    "    col_max = np.max(non_zero_cols)\n",
    "    \n",
    "    width_buffer = int((col_max - col_min) * buffer)\n",
    "    height_buffer = int((row_max - row_min) * buffer)\n",
    "    \n",
    "    top_left = np.array([row_min, col_min]) - np.array([height_buffer, width_buffer])\n",
    "    bottom_right = np.array([row_max, col_max]) + np.array([height_buffer, width_buffer])\n",
    "    \n",
    "    if top_left[0] < 0:\n",
    "        top_left[0] = 0\n",
    "    if top_left[1] < 0: \n",
    "        top_left[1] = 0\n",
    "    if bottom_right[0] > (mask_array.shape[0]):\n",
    "        bottom_right[0] = mask_array.shape[0]\n",
    "    if bottom_right[1] > (mask_array.shape[1]):\n",
    "        bottom_right[1] = mask_array.shape[1]\n",
    "    \n",
    "    return top_left, bottom_right"
   ]
  },
  {
   "cell_type": "code",
   "execution_count": 16,
   "metadata": {
    "Collapsed": "false"
   },
   "outputs": [],
   "source": [
    "def crop_resize_based_on_mask(image_path, mask_path, target_dir, resize_dim):\n",
    "    \n",
    "    img_array = np.array(Image.open(image_path))\n",
    "    msk_array = np.array(Image.open(mask_path))\n",
    "    \n",
    "    tl, br = crop_dim_from_mask_array(msk_array)\n",
    "\n",
    "    cropped_img = img_array[tl[0]:br[0], tl[1]:br[1]]\n",
    "    \n",
    "    png_info_dict = {\n",
    "        'original_x': cropped_img.shape[1],\n",
    "        'original_y': cropped_img.shape[0]\n",
    "    }\n",
    "    png_info = PngInfo()\n",
    "    for key, value in png_info_dict.items():\n",
    "        png_info.add_text(key, str(value))\n",
    "        \n",
    "    img = Image.fromarray(cropped_img)\n",
    "    img = img.resize(resize_dim, resample=Image.BICUBIC)\n",
    "    img.save(Path(Path(target_dir) / Path(image_path).name),'PNG', optimize=True, pnginfo=png_info)\n",
    "    "
   ]
  },
  {
   "cell_type": "code",
   "execution_count": 81,
   "metadata": {
    "Collapsed": "false"
   },
   "outputs": [],
   "source": [
    "def png_to_niigz(file_path, out_dir):\n",
    "    \n",
    "    affine = np.eye(4)\n",
    "    img_array = np.array(Image.open(file_path))\n",
    "\n",
    "    for i in range(3):\n",
    "        nifti_img = nib.Nifti1Image(np.expand_dims(img_array[:, :, i], axis=-1), affine)\n",
    "        new_filename = os.path.basename(file_path).replace('.png',  '_' + ('000' + str(i))[-4:] + '.nii.gz')\n",
    "        nib.save(nifti_img, os.path.join(out_dir, new_filename))"
   ]
  }
 ],
 "metadata": {
  "kernelspec": {
   "display_name": "Python 3",
   "language": "python",
   "name": "python3"
  },
  "language_info": {
   "codemirror_mode": {
    "name": "ipython",
    "version": 3
   },
   "file_extension": ".py",
   "mimetype": "text/x-python",
   "name": "python",
   "nbconvert_exporter": "python",
   "pygments_lexer": "ipython3",
   "version": "3.7.4"
  }
 },
 "nbformat": 4,
 "nbformat_minor": 4
}
